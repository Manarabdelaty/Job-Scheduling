{
 "cells": [
  {
   "cell_type": "code",
   "execution_count": 3,
   "metadata": {},
   "outputs": [],
   "source": [
    "from datascience import Table\n",
    "import numpy as np\n",
    "import random\n",
    "from matplotlib import pyplot as plt\n",
    "%matplotlib inline"
   ]
  },
  {
   "cell_type": "code",
   "execution_count": 217,
   "metadata": {},
   "outputs": [],
   "source": [
    "M = 5                # number of machines\n",
    "T = 10000            # number of time units\n",
    "K = 30               # number of pharmacists"
   ]
  },
  {
   "cell_type": "markdown",
   "metadata": {},
   "source": [
    "Q: Where to put the K pharmacists on my schedule to maximize work possible on all machines ? "
   ]
  },
  {
   "cell_type": "markdown",
   "metadata": {},
   "source": [
    "Constraint: \n",
    " - Per machine at most (k+1) Jobs whose sum(production time) <= T"
   ]
  },
  {
   "cell_type": "markdown",
   "metadata": {},
   "source": [
    "**Generate Dataset**"
   ]
  },
  {
   "cell_type": "markdown",
   "metadata": {},
   "source": [
    "1. Simulate sequence of production times"
   ]
  },
  {
   "cell_type": "code",
   "execution_count": 218,
   "metadata": {},
   "outputs": [
    {
     "data": {
      "text/plain": [
       "array([1.000e+00, 2.000e+00, 3.000e+00, ..., 4.999e+03, 5.000e+03,\n",
       "       5.001e+03])"
      ]
     },
     "execution_count": 218,
     "metadata": {},
     "output_type": "execute_result"
    }
   ],
   "source": [
    "jobs = np.arange(1, (T/2)+2)\n",
    "jobs"
   ]
  },
  {
   "cell_type": "code",
   "execution_count": 219,
   "metadata": {},
   "outputs": [],
   "source": [
    "# returs a sequence of the jobs per machine\n",
    "def generate_sequences(M, K, T, jobs):\n",
    "    seqs = []\n",
    "    for i in range(M):\n",
    "        seq = np.random.choice(jobs, (K+1))\n",
    "        if (sum(seq) > T):\n",
    "            seq= truncate(seq, T)\n",
    "        seqs.append(seq)\n",
    "    return seqs\n",
    "\n",
    "# generates a sequence for the pharmacists \n",
    "def generate_pharma_seq(K, T):\n",
    "    units = np.arange(1, T)\n",
    "    pharma = np.random.choice(units, K, replace=False)\n",
    "    return sorted(pharma)\n",
    "\n",
    "# truncates the generated sequence to meet the constraint : sum(jobs) <= T\n",
    "def truncate(seq, T):\n",
    "    if (sum(seq) > T):\n",
    "        seq = seq[seq != sorted(seq,reverse=True)[0]]\n",
    "        truncate(seq, T)\n",
    "        return seq\n",
    "    \n",
    "# calculates production time given the time the k pharmacists come at \n",
    "def production_time(pharma , seq, T):\n",
    "    approved = []\n",
    "    prod_time = 0\n",
    "    elapsed_time = 0\n",
    "    pharma_seq = pharma.copy()\n",
    "    \n",
    "   #  print (\"Sequence: \", seq)\n",
    "     # one job\n",
    "    for job in seq:  \n",
    "        # check the length of the pharmacisit array\n",
    "        \n",
    "        if (len(pharma_seq)==0):\n",
    "            elapsed_time = elapsed_time + job\n",
    "           # print(elapsed_time, \"job\", job)\n",
    "            if(elapsed_time > T):\n",
    "                prod_time = prod_time + job -(elapsed_time-T)\n",
    "            else:\n",
    "                prod_time = prod_time + job\n",
    "           # print(\"BREAK\")\n",
    "            break\n",
    "            \n",
    "        # pop the 1st pharmacist\n",
    "        k = pharma_seq.pop(0)\n",
    "        \n",
    "        elapsed_time = elapsed_time + job\n",
    "        \n",
    "        while ((k < elapsed_time) & (len(pharma_seq)> 0)):   # check if the first pharmacist can check it otherwise check the next pharmacist\n",
    "            k = pharma_seq.pop(0)                            # next pharmacist\n",
    "        \n",
    "        if (k < elapsed_time):\n",
    "            approved.append(False)\n",
    "        else:\n",
    "            approved.append(True)\n",
    "            elapsed_time = k\n",
    "            \n",
    "       # print(\"job: \", job, \"elapesed_time: \", elapsed_time, \"pharma: \", pharma_seq)\n",
    "        \n",
    "        if(elapsed_time > T):             # if the length of the job exceeds T\n",
    "            prod_time = prod_time + job -(elapsed_time - T)\n",
    "         #   print(\"here2\", prod_time)\n",
    "        else:\n",
    "            prod_time = prod_time + job\n",
    "         #   print(\"here\", prod_time)\n",
    "            \n",
    "        if(approved[-1] == False):\n",
    "            break\n",
    "  #  print(approved)\n",
    "   # print(\"Prod Time: \", prod_time)\n",
    "    return prod_time\n",
    "\n",
    "def idle_time(pharma, seq, T):\n",
    "    idle  = T - production_time(pharma, seq, T)\n",
    "   # print(production_time(pharma, seq, T))\n",
    "    return idle\n",
    "\n",
    "def idle_time_all_schedule(pharma_seq, seqs, T):\n",
    "    idle = 0\n",
    "    for seq in seqs:\n",
    "        idle  = idle + idle_time(pharma_seq, seq, T)\n",
    "      #  print(idle)\n",
    "      #  print(idle_time(pharma_seq, seq, T))\n",
    "       # print(seq)\n",
    "    return idle\n",
    "\n",
    "# calculate production time for a given schedule\n",
    "def prod_time_all_schedule(pharma_seq, seqs, T):\n",
    "    prod_time = 0\n",
    "    for seq in seqs:\n",
    "        prod_time = prod_time + production_time(pharma_seq, seq, T)\n",
    "    return prod_time\n",
    "    "
   ]
  },
  {
   "cell_type": "code",
   "execution_count": 220,
   "metadata": {},
   "outputs": [
    {
     "data": {
      "text/plain": [
       "[array([1956.,   41., 1261., 1754., 1287.,  287., 1342., 3514.,  795.,\n",
       "        3915., 1774., 3894., 2112., 4305., 3411.,   53., 1490., 1777.,\n",
       "        2515.,  438.,  316., 1493., 1623., 3031., 4156., 1163., 3340.,\n",
       "        1781., 4053., 3401.]),\n",
       " array([2473., 3009., 1607., 2022., 4911., 2729., 4132., 2670., 3927.,\n",
       "        2066.,   45., 4780., 3753., 3445., 4422., 2945., 1641., 3332.,\n",
       "        4836.,  370., 1686., 1769., 3133., 1223., 3488., 1684., 1070.,\n",
       "        4521., 3902., 3112.]),\n",
       " array([1375., 3137., 3799., 3269., 2175., 3723., 1018., 4105., 3049.,\n",
       "        2063., 3631.,  770., 1959.,  175.,  187., 2388., 2007., 3328.,\n",
       "        2914.,   91.,  870., 3338.,   20.,  470., 3597., 2725., 2724.,\n",
       "        1976., 3263., 1898.]),\n",
       " array([ 804., 4167., 4225.,  260., 2320., 2799.,  395., 3691., 2698.,\n",
       "         889., 4007., 1327., 1266., 1293.,   72., 2764., 3529., 2147.,\n",
       "        4098., 3991.,  791.,  529., 1947., 4743., 1408.,  492., 3744.,\n",
       "         515.,  660., 2413.]),\n",
       " array([3209., 3678.,  238., 2089.,  146., 2891.,  359., 3237., 1588.,\n",
       "        4209., 3771., 4008.,  223., 3267., 1282., 2099.,  127.,  146.,\n",
       "        3247.,  732., 1962.,  699.,  207., 2813.,  996., 4526., 3644.,\n",
       "        2834., 4273., 3449.])]"
      ]
     },
     "execution_count": 220,
     "metadata": {},
     "output_type": "execute_result"
    }
   ],
   "source": [
    "seqs = generate_sequences(M, K, T, jobs)\n",
    "seqs"
   ]
  },
  {
   "cell_type": "markdown",
   "metadata": {},
   "source": [
    "**Heuristic Algorithm**"
   ]
  },
  {
   "cell_type": "markdown",
   "metadata": {},
   "source": [
    "Problem: assign t for each pharmacists such that the total production time is maximized and idle time is minimized. "
   ]
  },
  {
   "cell_type": "markdown",
   "metadata": {},
   "source": [
    "hill climbing algorithm --> Simulated annealing\n",
    "\n",
    "- Let s = s0\n",
    "- For k = 0 through kmax (exclusive):\n",
    "- T ← temperature( kmax/(k+1) )\n",
    "- Pick a random neighbour, snew ← neighbour(s)\n",
    "- If P(E(s), E(snew), T) ≥ random(0, 1):\n",
    "- s ← snew\n",
    "- Output: the final state s"
   ]
  },
  {
   "cell_type": "code",
   "execution_count": 224,
   "metadata": {},
   "outputs": [],
   "source": [
    "# update temp for annealing schedule\n",
    "def update_temp(fraction):\n",
    "     return max(0.01, min(1, 1 - fraction))\n",
    "\n",
    "# move in the right or left , generate dt1, dt2, dt3, ... dtk \n",
    "def get_neighbors(t):\n",
    "    sigma = 2\n",
    "    new_t = [clip(round(time + random.gauss(0, sigma))) for time in t]\n",
    "    return sorted(new_t)\n",
    "\n",
    "# clip t value to meet the constraints\n",
    "def clip(t):\n",
    "    if (t <= 0):\n",
    "        t= abs(t)\n",
    "    if (t > T):\n",
    "         t = T-1\n",
    "    if (t==0):\n",
    "        t = t + 1\n",
    "    if (t==T):\n",
    "        t = t -1\n",
    "    return t\n",
    "\n",
    "# function we are trying to minimize\n",
    "def cost_function(t):\n",
    "    return idle_time_all_schedule(t,seqs, T)\n",
    "\n",
    "# probability of accepting the new solution\n",
    "def acceptance_probability(cost, new_cost, temp):\n",
    "    if new_cost < cost:   # if the cost is minimized\n",
    "        return 1          # accept \n",
    "    else:\n",
    "        p = np.exp(- (new_cost - cost) / temp)\n",
    "        return p"
   ]
  },
  {
   "cell_type": "code",
   "execution_count": 225,
   "metadata": {},
   "outputs": [],
   "source": [
    "def SA(func, max_steps=10):\n",
    "    # generate a random solution\n",
    "    state = generate_pharma_seq(K, T)                             # generate a random sequence for t\n",
    "    # get production time for this solution\n",
    "    cost = func(state)\n",
    "    states, costs = [state], [cost]\n",
    "    # start annealing schedule\n",
    "    for i in range(max_steps):\n",
    "        \n",
    "        fraction = i/float(max_steps)\n",
    "        \n",
    "        temp = update_temp(fraction)\n",
    "        # generate a new state\n",
    "        new_state = get_neighbors(state)\n",
    "        # evaluate the cost function\n",
    "        new_cost = func(new_state)\n",
    "        \n",
    "        if acceptance_probability(cost, new_cost, temp) > np.random.random():\n",
    "            state, cost = new_state, new_cost\n",
    "            states.append(state)\n",
    "            costs.append(cost)\n",
    "            \n",
    "    return state, func(state), states, costs"
   ]
  },
  {
   "cell_type": "code",
   "execution_count": 226,
   "metadata": {},
   "outputs": [],
   "source": [
    "state, cost, states, costs = SA(cost_function, max_steps=10000)"
   ]
  },
  {
   "cell_type": "code",
   "execution_count": 227,
   "metadata": {},
   "outputs": [
    {
     "data": {
      "text/plain": [
       "5205.0"
      ]
     },
     "execution_count": 227,
     "metadata": {},
     "output_type": "execute_result"
    }
   ],
   "source": [
    "cost"
   ]
  },
  {
   "cell_type": "code",
   "execution_count": 236,
   "metadata": {},
   "outputs": [],
   "source": [
    "def see_annealing(states, costs):\n",
    "    plt.figure()\n",
    "    plt.plot(costs, 'r')\n",
    "    plt.title(\"Costs\")\n",
    "    plt.show()"
   ]
  },
  {
   "cell_type": "code",
   "execution_count": 237,
   "metadata": {},
   "outputs": [
    {
     "data": {
      "image/png": "[encoded data removed]",
      "text/plain": [
       "<Figure size 432x288 with 1 Axes>"
      ]
     },
     "metadata": {
      "needs_background": "light"
     },
     "output_type": "display_data"
    }
   ],
   "source": [
    "see_annealing(states, costs)"
   ]
  },
  {
   "cell_type": "markdown",
   "metadata": {},
   "source": [
    "The annealing schedule is able to find an optimal solution for the function as shown in the decreasing graph of the cost"
   ]
  }
 ],
 "metadata": {
  "kernelspec": {
   "display_name": "Python 3",
   "language": "python",
   "name": "python3"
  },
  "language_info": {
   "codemirror_mode": {
    "name": "ipython",
    "version": 3
   },
   "file_extension": ".py",
   "mimetype": "text/x-python",
   "name": "python",
   "nbconvert_exporter": "python",
   "pygments_lexer": "ipython3",
   "version": "3.6.7"
  }
 },
 "nbformat": 4,
 "nbformat_minor": 2
}
